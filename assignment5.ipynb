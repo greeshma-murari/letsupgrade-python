{
  "nbformat": 4,
  "nbformat_minor": 0,
  "metadata": {
    "colab": {
      "name": "assignment5.ipynb",
      "provenance": [],
      "collapsed_sections": [],
      "authorship_tag": "ABX9TyO/8dZwA8Rqt65RnGLsxDw0",
      "include_colab_link": true
    },
    "kernelspec": {
      "name": "python3",
      "display_name": "Python 3"
    }
  },
  "cells": [
    {
      "cell_type": "markdown",
      "metadata": {
        "id": "view-in-github",
        "colab_type": "text"
      },
      "source": [
        "<a href=\"https://colab.research.google.com/github/greeshma-murari/letsupgrade-python/blob/master/assignment5.ipynb\" target=\"_parent\"><img src=\"https://colab.research.google.com/assets/colab-badge.svg\" alt=\"Open In Colab\"/></a>"
      ]
    },
    {
      "cell_type": "code",
      "metadata": {
        "id": "tBzZKcZdrg4R",
        "colab_type": "code",
        "colab": {}
      },
      "source": [
        "##Asignment 1 --> Merge the two sorted lists to produce one sorted list using any one loop one time.\n",
        "##list1 = [10,20,40,60,70,80] - sorted list\n",
        "##list2 = [5,15,25,35,45,60]  -  sorted list"
      ],
      "execution_count": 1,
      "outputs": []
    },
    {
      "cell_type": "code",
      "metadata": {
        "id": "oxMPl2IQrlDy",
        "colab_type": "code",
        "colab": {
          "base_uri": "https://localhost:8080/",
          "height": 34
        },
        "outputId": "5f32ad16-4b31-48fd-d2e8-75d440416305"
      },
      "source": [
        "list1 = [10,20,40,60,70,80] \n",
        "list2 = [5,15,25,35,45,60]\n",
        "res = list1+list2\n",
        "for each in range(5,81):\n",
        "    if each in res: \n",
        "        print(each, end = \",\")"
      ],
      "execution_count": 2,
      "outputs": [
        {
          "output_type": "stream",
          "text": [
            "5,10,15,20,25,35,40,45,60,70,80,"
          ],
          "name": "stdout"
        }
      ]
    },
    {
      "cell_type": "code",
      "metadata": {
        "id": "PFzn1rffrqcU",
        "colab_type": "code",
        "colab": {}
      },
      "source": [
        "## Assignment 2 --> [0,1,2,10,4,1,0,56,2,0,1,3,0,56,0,4]\n",
        "## sort by increasing order but all the zeros should be at the right hand side."
      ],
      "execution_count": 3,
      "outputs": []
    },
    {
      "cell_type": "code",
      "metadata": {
        "id": "GwbGxFUOruKd",
        "colab_type": "code",
        "colab": {
          "base_uri": "https://localhost:8080/",
          "height": 34
        },
        "outputId": "be6a30e9-ebaf-4486-c9d6-52ac0d761e08"
      },
      "source": [
        "listt = [0,1,2,10,4,1,0,56,2,0,1,3,0,56,0,4]\n",
        "listt.sort()\n",
        "listt.extend((0,0,0,0,0))\n",
        "del listt[0:5]\n",
        "print(listt)\n"
      ],
      "execution_count": 4,
      "outputs": [
        {
          "output_type": "stream",
          "text": [
            "[1, 1, 1, 2, 2, 3, 4, 4, 10, 56, 56, 0, 0, 0, 0, 0]\n"
          ],
          "name": "stdout"
        }
      ]
    },
    {
      "cell_type": "code",
      "metadata": {
        "id": "D7x3VWZmry3h",
        "colab_type": "code",
        "colab": {}
      },
      "source": [
        ""
      ],
      "execution_count": null,
      "outputs": []
    }
  ]
}