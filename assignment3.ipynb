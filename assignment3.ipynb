{
  "nbformat": 4,
  "nbformat_minor": 0,
  "metadata": {
    "colab": {
      "name": "assignment3.ipynb",
      "provenance": [],
      "authorship_tag": "ABX9TyPXQGnbt8rZAYpzr2wsPYMM",
      "include_colab_link": true
    },
    "kernelspec": {
      "name": "python3",
      "display_name": "Python 3"
    }
  },
  "cells": [
    {
      "cell_type": "markdown",
      "metadata": {
        "id": "view-in-github",
        "colab_type": "text"
      },
      "source": [
        "<a href=\"https://colab.research.google.com/github/greeshma-murari/letsupgrade-python/blob/master/assignment3.ipynb\" target=\"_parent\"><img src=\"https://colab.research.google.com/assets/colab-badge.svg\" alt=\"Open In Colab\"/></a>"
      ]
    },
    {
      "cell_type": "code",
      "metadata": {
        "id": "HKXSYclgcfzf",
        "colab_type": "code",
        "colab": {
          "base_uri": "https://localhost:8080/",
          "height": 286
        },
        "outputId": "51d2a8f7-1e1d-4c96-9f31-d7ecb9873c1a"
      },
      "source": [
        "# Python program to find prime numbers\n",
        "lower = 1\n",
        "upper = 50\n",
        "\n",
        "print(\"Prime numbers between\", lower, \"and\", upper, \"are:\")\n",
        "\n",
        "for num in range(lower, upper + 1):\n",
        "  \n",
        "   if num > 1:\n",
        "        for i in range(2, num):\n",
        "            if (num % i) == 0:\n",
        "                break\n",
        "        else:\n",
        "            print(num)\n"
      ],
      "execution_count": 1,
      "outputs": [
        {
          "output_type": "stream",
          "text": [
            "Prime numbers between 1 and 50 are:\n",
            "2\n",
            "3\n",
            "5\n",
            "7\n",
            "11\n",
            "13\n",
            "17\n",
            "19\n",
            "23\n",
            "29\n",
            "31\n",
            "37\n",
            "41\n",
            "43\n",
            "47\n"
          ],
          "name": "stdout"
        }
      ]
    },
    {
      "cell_type": "code",
      "metadata": {
        "id": "B_a-1AfvcsK9",
        "colab_type": "code",
        "colab": {
          "base_uri": "https://localhost:8080/",
          "height": 202
        },
        "outputId": "a8ec357d-1667-4a15-c18d-850027f1ba51"
      },
      "source": [
        "# Code for sum of n numbers using while loop \n",
        "\n",
        "num = int(input(\"Enter the value of n: \"))\n",
        "hold=num\n",
        "sum=0\n",
        "while num > 0:\n",
        "        sum = sum + num\n",
        "        num = num - 1;\n",
        "        print(\"Sum of first\",hold,\"numbers is: \", sum)\n"
      ],
      "execution_count": 5,
      "outputs": [
        {
          "output_type": "stream",
          "text": [
            "Enter the value of n: 10\n",
            "Sum of first 10 numbers is:  10\n",
            "Sum of first 10 numbers is:  19\n",
            "Sum of first 10 numbers is:  27\n",
            "Sum of first 10 numbers is:  34\n",
            "Sum of first 10 numbers is:  40\n",
            "Sum of first 10 numbers is:  45\n",
            "Sum of first 10 numbers is:  49\n",
            "Sum of first 10 numbers is:  52\n",
            "Sum of first 10 numbers is:  54\n",
            "Sum of first 10 numbers is:  55\n"
          ],
          "name": "stdout"
        }
      ]
    },
    {
      "cell_type": "code",
      "metadata": {
        "id": "FTafqOj_cyCk",
        "colab_type": "code",
        "colab": {}
      },
      "source": [
        ""
      ],
      "execution_count": null,
      "outputs": []
    }
  ]
}