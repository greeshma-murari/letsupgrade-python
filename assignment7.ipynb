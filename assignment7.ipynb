{
  "nbformat": 4,
  "nbformat_minor": 0,
  "metadata": {
    "colab": {
      "name": "assignment7.ipynb",
      "provenance": [],
      "authorship_tag": "ABX9TyPXnLvYQJNDKmo5K6O3IgQf",
      "include_colab_link": true
    },
    "kernelspec": {
      "name": "python3",
      "display_name": "Python 3"
    }
  },
  "cells": [
    {
      "cell_type": "markdown",
      "metadata": {
        "id": "view-in-github",
        "colab_type": "text"
      },
      "source": [
        "<a href=\"https://colab.research.google.com/github/greeshma-murari/letsupgrade-python/blob/master/assignment7.ipynb\" target=\"_parent\"><img src=\"https://colab.research.google.com/assets/colab-badge.svg\" alt=\"Open In Colab\"/></a>"
      ]
    },
    {
      "cell_type": "code",
      "metadata": {
        "id": "K5UJdkERRoLd",
        "colab_type": "code",
        "colab": {}
      },
      "source": [
        "# To create a new dictionanry in which keys become values and values become keys"
      ],
      "execution_count": null,
      "outputs": []
    },
    {
      "cell_type": "code",
      "metadata": {
        "id": "SRsTQBsPRuR-",
        "colab_type": "code",
        "colab": {
          "base_uri": "https://localhost:8080/",
          "height": 34
        },
        "outputId": "593c8443-f1cb-46ad-a9f0-35e84049b607"
      },
      "source": [
        "dict1 = {21: \"ftp\", 22:\"ssh\", 23: \"telnet\", 80: \"http\"}\n",
        "dict2 = {value:key \n",
        "        for key, value in dict1 . items()}\n",
        "print(\"the output:\",dict2)"
      ],
      "execution_count": null,
      "outputs": [
        {
          "output_type": "stream",
          "text": [
            "the output: {'ftp': 21, 'ssh': 22, 'telnet': 23, 'http': 80}\n"
          ],
          "name": "stdout"
        }
      ]
    },
    {
      "cell_type": "code",
      "metadata": {
        "id": "-xuhBs-QRzfW",
        "colab_type": "code",
        "colab": {}
      },
      "source": [
        "## Make a list which contains the sum of tuple"
      ],
      "execution_count": null,
      "outputs": []
    },
    {
      "cell_type": "code",
      "metadata": {
        "id": "oDoAii5NR3W9",
        "colab_type": "code",
        "colab": {
          "base_uri": "https://localhost:8080/",
          "height": 84
        },
        "outputId": "30d62ca8-9a35-4d0f-9858-27288985905f"
      },
      "source": [
        "list1 = [(1,2),(3,4),(5,6),(4,5)]\n",
        "list2 = []\n",
        "for each in range(0,len(list1)):\n",
        "    a,b = list1[each]\n",
        "    list2.append(a+b)\n",
        "    print(\"the list contains sum of tuple:\", list2)"
      ],
      "execution_count": null,
      "outputs": [
        {
          "output_type": "stream",
          "text": [
            "the list contains sum of tuple: [3]\n",
            "the list contains sum of tuple: [3, 7]\n",
            "the list contains sum of tuple: [3, 7, 11]\n",
            "the list contains sum of tuple: [3, 7, 11, 9]\n"
          ],
          "name": "stdout"
        }
      ]
    },
    {
      "cell_type": "code",
      "metadata": {
        "id": "-8BZzmnhR72l",
        "colab_type": "code",
        "colab": {}
      },
      "source": [
        "##OR"
      ],
      "execution_count": null,
      "outputs": []
    },
    {
      "cell_type": "code",
      "metadata": {
        "id": "P9aoNgAyR-7y",
        "colab_type": "code",
        "colab": {
          "base_uri": "https://localhost:8080/",
          "height": 34
        },
        "outputId": "eed3955b-fb9f-4e0e-897b-833abd33c1b4"
      },
      "source": [
        "list1 = [(1,2),(3,4),(5,6),(4,5)]\n",
        "op = [sum(i) for i in list1]\n",
        "print(op)"
      ],
      "execution_count": null,
      "outputs": [
        {
          "output_type": "stream",
          "text": [
            "[3, 7, 11, 9]\n"
          ],
          "name": "stdout"
        }
      ]
    },
    {
      "cell_type": "code",
      "metadata": {
        "id": "WFeIulSySGFH",
        "colab_type": "code",
        "colab": {}
      },
      "source": [
        "## To make the elements in the inner list and tuple to the outer list:\n"
      ],
      "execution_count": null,
      "outputs": []
    },
    {
      "cell_type": "code",
      "metadata": {
        "id": "BQQY6mvlSK5g",
        "colab_type": "code",
        "colab": {
          "base_uri": "https://localhost:8080/",
          "height": 34
        },
        "outputId": "78a520ad-ede5-452a-8044-b591b426f9ab"
      },
      "source": [
        "list1 = [(1,2,3),[1,2],['a','hit','less']]\n",
        "list2 = []\n",
        "list2 = [i for each in list1 for i in each]\n",
        "print(\"the required output:\", list2)"
      ],
      "execution_count": null,
      "outputs": [
        {
          "output_type": "stream",
          "text": [
            "the required output: [1, 2, 3, 1, 2, 'a', 'hit', 'less']\n"
          ],
          "name": "stdout"
        }
      ]
    },
    {
      "cell_type": "code",
      "metadata": {
        "id": "m2VPUaokSOaR",
        "colab_type": "code",
        "colab": {}
      },
      "source": [
        ""
      ],
      "execution_count": null,
      "outputs": []
    }
  ]
}