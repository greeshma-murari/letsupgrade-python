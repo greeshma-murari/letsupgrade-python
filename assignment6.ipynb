{
  "nbformat": 4,
  "nbformat_minor": 0,
  "metadata": {
    "colab": {
      "name": "assignment6.ipynb",
      "provenance": [],
      "authorship_tag": "ABX9TyMlECLtM2I+SM4W1cUnYkQQ",
      "include_colab_link": true
    },
    "kernelspec": {
      "name": "python3",
      "display_name": "Python 3"
    }
  },
  "cells": [
    {
      "cell_type": "markdown",
      "metadata": {
        "id": "view-in-github",
        "colab_type": "text"
      },
      "source": [
        "<a href=\"https://colab.research.google.com/github/greeshma-murari/letsupgrade-python/blob/master/assignment6.ipynb\" target=\"_parent\"><img src=\"https://colab.research.google.com/assets/colab-badge.svg\" alt=\"Open In Colab\"/></a>"
      ]
    },
    {
      "cell_type": "code",
      "metadata": {
        "id": "7a4RLHTnQq12",
        "colab_type": "code",
        "colab": {}
      },
      "source": [
        "list1 = [1,2,3,4,5,7,8]"
      ],
      "execution_count": null,
      "outputs": []
    },
    {
      "cell_type": "code",
      "metadata": {
        "id": "F-V_PBGgQ2yh",
        "colab_type": "code",
        "colab": {}
      },
      "source": [
        "list2 = [\"a\",\"b\",\"c\",\"d\",\"e\"]"
      ],
      "execution_count": null,
      "outputs": []
    },
    {
      "cell_type": "code",
      "metadata": {
        "id": "3RbA9y8mQ5dA",
        "colab_type": "code",
        "colab": {}
      },
      "source": [
        "dist1 = {}"
      ],
      "execution_count": null,
      "outputs": []
    },
    {
      "cell_type": "code",
      "metadata": {
        "id": "NznBvpYQQ917",
        "colab_type": "code",
        "colab": {
          "base_uri": "https://localhost:8080/",
          "height": 34
        },
        "outputId": "6ada3e55-b9b8-4da0-b7f0-d8933902bc2a"
      },
      "source": [
        "print({list1[each]: list2[each] \n",
        "      for each in range(min(len(list1), len(list2)))\n",
        "      })"
      ],
      "execution_count": null,
      "outputs": [
        {
          "output_type": "stream",
          "text": [
            "{1: 'a', 2: 'b', 3: 'c', 4: 'd', 5: 'e'}\n"
          ],
          "name": "stdout"
        }
      ]
    },
    {
      "cell_type": "code",
      "metadata": {
        "id": "iRHdJP05RAjq",
        "colab_type": "code",
        "colab": {}
      },
      "source": [
        ""
      ],
      "execution_count": null,
      "outputs": []
    }
  ]
}